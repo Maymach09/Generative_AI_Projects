{
 "cells": [
  {
   "cell_type": "code",
   "execution_count": 50,
   "metadata": {},
   "outputs": [],
   "source": [
    "from langchain_community.llms import OpenAI\n",
    "from langchain_community.vectorstores import Chroma\n",
    "from langchain_community.document_loaders import PyPDFLoader\n",
    "from langchain.text_splitter import RecursiveCharacterTextSplitter\n",
    "from langchain.embeddings.openai import OpenAIEmbeddings\n",
    "from langchain_core.prompts import ChatPromptTemplate, MessagesPlaceholder\n",
    "from langchain.chains import RetrievalQA\n",
    "import os"
   ]
  },
  {
   "cell_type": "markdown",
   "metadata": {},
   "source": [
    "## Load PDF document"
   ]
  },
  {
   "cell_type": "code",
   "execution_count": 51,
   "metadata": {},
   "outputs": [],
   "source": [
    "# Read PDF using PyPDF2\n",
    "loader = PyPDFLoader(file_path=\"C:/Documents/AI/GenAI/Langchain/Claims_Chatbot/pdf_files/claims_flow.pdf\")\n",
    "pages = loader.load_and_split()"
   ]
  },
  {
   "cell_type": "code",
   "execution_count": 52,
   "metadata": {},
   "outputs": [
    {
     "data": {
      "text/plain": [
       "50"
      ]
     },
     "execution_count": 52,
     "metadata": {},
     "output_type": "execute_result"
    }
   ],
   "source": [
    "len(pages)"
   ]
  },
  {
   "cell_type": "markdown",
   "metadata": {},
   "source": [
    "## Split into chunks"
   ]
  },
  {
   "cell_type": "code",
   "execution_count": 63,
   "metadata": {},
   "outputs": [],
   "source": [
    "doc_splitter = RecursiveCharacterTextSplitter(\n",
    "        chunk_size = 1000,\n",
    "        chunk_overlap  = 50,\n",
    "    )\n",
    "split_pages = doc_splitter.split_documents(pages)\n"
   ]
  },
  {
   "cell_type": "code",
   "execution_count": 64,
   "metadata": {},
   "outputs": [
    {
     "data": {
      "text/plain": [
       "131"
      ]
     },
     "execution_count": 64,
     "metadata": {},
     "output_type": "execute_result"
    }
   ],
   "source": [
    "len(split_pages)"
   ]
  },
  {
   "cell_type": "code",
   "execution_count": 65,
   "metadata": {},
   "outputs": [
    {
     "data": {
      "text/plain": [
       "Document(page_content='intervention rules, the claim pends. The user is presented with the options of (1) accepting the way\\nClaims processed the claim, (2) denying the entire claim or (3) rerouting the claim to an earlier step in\\nthe flow in order to change the claim’s fields or results.\\nFinalization\\nThe most important part of finalizing a claim is the detection of concurrent use of counters and cases.\\nConcurrent use must be detected in order to prevent a counter from exceeding its limit due to the\\nsimultaneous processing of multiple claims. Likewise, the creation of the identical overlapping cases is\\ndetected. Once a claim is cleared and confirmed not to be in conflict with other claims, a snapshot of\\nthe claim, that is, a claim transaction, is stored in the Claims T ransaction R epository.\\nFinalized claims can be unfinalized through the user interface or an integration point. Unfinalizing a\\nclaim means that the claim is open for changes, but the claim will need to go through the entire', metadata={'source': 'C:/Documents/AI/GenAI/Langchain/Claims_Chatbot/pdf_files/claims_flow.pdf', 'page': 38})"
      ]
     },
     "execution_count": 65,
     "metadata": {},
     "output_type": "execute_result"
    }
   ],
   "source": [
    "split_pages[100]"
   ]
  },
  {
   "cell_type": "markdown",
   "metadata": {},
   "source": [
    "## Store chunks in vector DB"
   ]
  },
  {
   "cell_type": "code",
   "execution_count": 66,
   "metadata": {},
   "outputs": [],
   "source": [
    "embeddings = OpenAIEmbeddings()\n",
    "# Create vector db to store raw documents\n",
    "vectordb = Chroma.from_documents(\n",
    "        documents=split_pages,\n",
    "        embedding=embeddings,\n",
    "    )\n",
    "\n",
    "# Retrieve relevant chunks and store them in a variable\n",
    "#retriever = vectordb.as_retriever(k=3)"
   ]
  },
  {
   "cell_type": "code",
   "execution_count": 71,
   "metadata": {},
   "outputs": [],
   "source": [
    "retriever = vectordb.as_retriever()"
   ]
  },
  {
   "cell_type": "code",
   "execution_count": 72,
   "metadata": {},
   "outputs": [
    {
     "name": "stderr",
     "output_type": "stream",
     "text": [
      "c:\\Users\\Mayan\\AppData\\Local\\Programs\\Python\\Python311\\Lib\\site-packages\\langchain_core\\_api\\deprecation.py:117: LangChainDeprecationWarning: The class `langchain_community.llms.openai.OpenAI` was deprecated in langchain-community 0.0.10 and will be removed in 0.2.0. An updated version of the class exists in the langchain-openai package and should be used instead. To use it run `pip install -U langchain-openai` and import as `from langchain_openai import OpenAI`.\n",
      "  warn_deprecated(\n"
     ]
    }
   ],
   "source": [
    "llm = OpenAI(temperature=0.2, max_tokens=500)\n"
   ]
  },
  {
   "cell_type": "code",
   "execution_count": 73,
   "metadata": {},
   "outputs": [],
   "source": [
    "qa_chain = RetrievalQA.from_chain_type(\n",
    "llm=llm,\n",
    "chain_type=\"stuff\",\n",
    "retriever=retriever,\n",
    "return_source_documents=True,\n",
    "output_key='Answer'\n",
    ")"
   ]
  },
  {
   "cell_type": "code",
   "execution_count": 81,
   "metadata": {},
   "outputs": [],
   "source": [
    "question = \"What is claim finaliztion?\""
   ]
  },
  {
   "cell_type": "code",
   "execution_count": 82,
   "metadata": {},
   "outputs": [],
   "source": [
    "output = qa_chain(question)"
   ]
  },
  {
   "cell_type": "code",
   "execution_count": 83,
   "metadata": {},
   "outputs": [
    {
     "name": "stdout",
     "output_type": "stream",
     "text": [
      "{'query': 'What is claim finaliztion?', 'Answer': ' Claim finalization is the process of detecting concurrent use of counters and cases in order to prevent a counter from exceeding its limit and creating identical overlapping cases. Once a claim is cleared and confirmed not to be in conflict with other claims, a snapshot of the claim is stored in the Claims Transaction Repository. Finalized claims can be unfinalized through the user interface or an integration point.', 'source_documents': [Document(page_content='intervention rules, the claim pends. The user is presented with the options of (1) accepting the way\\nClaims processed the claim, (2) denying the entire claim or (3) rerouting the claim to an earlier step in\\nthe flow in order to change the claim’s fields or results.\\nFinalization\\nThe most important part of finalizing a claim is the detection of concurrent use of counters and cases.\\nConcurrent use must be detected in order to prevent a counter from exceeding its limit due to the\\nsimultaneous processing of multiple claims. Likewise, the creation of the identical overlapping cases is\\ndetected. Once a claim is cleared and confirmed not to be in conflict with other claims, a snapshot of\\nthe claim, that is, a claim transaction, is stored in the Claims T ransaction R epository.\\nFinalized claims can be unfinalized through the user interface or an integration point. Unfinalizing a\\nclaim means that the claim is open for changes, but the claim will need to go through the entire', metadata={'page': 38, 'source': 'C:/Documents/AI/GenAI/Langchain/Claims_Chatbot/pdf_files/claims_flow.pdf'}), Document(page_content='intervention rules, the claim pends. The user is presented with the options of (1) accepting the way\\nClaims processed the claim, (2) denying the entire claim or (3) rerouting the claim to an earlier step in\\nthe flow in order to change the claim’s fields or results.\\nFinalization\\nThe most important part of finalizing a claim is the detection of concurrent use of counters and cases.\\nConcurrent use must be detected in order to prevent a counter from exceeding its limit due to the', metadata={'page': 38, 'source': 'C:/Documents/AI/GenAI/Langchain/Claims_Chatbot/pdf_files/claims_flow.pdf'}), Document(page_content='intervention rules, the claim pends. The user is presented with the options of (1) accepting the way\\nClaims processed the claim, (2) denying the entire claim or (3) rerouting the claim to an earlier step in\\nthe flow in order to change the claim’s fields or results.\\nFinalization\\nThe most important part of finalizing a claim is the detection of concurrent use of counters and cases.\\nConcurrent use must be detected in order to prevent a counter from exceeding its limit due to the', metadata={'page': 38, 'source': 'C:/Documents/AI/GenAI/Langchain/Claims_Chatbot/pdf_files/claims_flow.pdf'}), Document(page_content='intervention rules, the claim pends. The user is presented with the options of (1) accepting the way\\nClaims processed the claim, (2) denying the entire claim or (3) rerouting the claim to an earlier step in\\nthe flow in order to change the claim’s fields or results.\\nFinalization\\nThe most important part of finalizing a claim is the detection of concurrent use of counters and cases.\\nConcurrent use must be detected in order to prevent a counter from exceeding its limit due to the', metadata={'page': 38, 'source': 'C:/Documents/AI/GenAI/Langchain/Claims_Chatbot/pdf_files/claims_flow.pdf'})]}\n"
     ]
    }
   ],
   "source": [
    "print(output)"
   ]
  },
  {
   "cell_type": "code",
   "execution_count": 70,
   "metadata": {},
   "outputs": [],
   "source": [
    "context = vectordb.similarity_search(question,k=3)"
   ]
  },
  {
   "cell_type": "code",
   "execution_count": 33,
   "metadata": {},
   "outputs": [],
   "source": [
    "question_answering_prompt = ChatPromptTemplate.from_messages(\n",
    "        [\n",
    "            (\n",
    "                \"user\",\n",
    "                '''\n",
    "                You are an expert claims processor. You are a subject matter expert in claims adjudication system named oracle health insurance.\n",
    "                Your job is to answer user's question based on the context given below delimited by triple backticks.\n",
    "                ```{context}```                \n",
    "                If the question is not related to the context, just say I don't know.\n",
    "\n",
    "                ''',\n",
    "            ),\n",
    "            MessagesPlaceholder(variable_name=\"messages\"),\n",
    "        ]\n",
    "    )"
   ]
  },
  {
   "cell_type": "code",
   "execution_count": null,
   "metadata": {},
   "outputs": [],
   "source": []
  }
 ],
 "metadata": {
  "kernelspec": {
   "display_name": "Python 3",
   "language": "python",
   "name": "python3"
  },
  "language_info": {
   "codemirror_mode": {
    "name": "ipython",
    "version": 3
   },
   "file_extension": ".py",
   "mimetype": "text/x-python",
   "name": "python",
   "nbconvert_exporter": "python",
   "pygments_lexer": "ipython3",
   "version": "3.11.5"
  }
 },
 "nbformat": 4,
 "nbformat_minor": 2
}
